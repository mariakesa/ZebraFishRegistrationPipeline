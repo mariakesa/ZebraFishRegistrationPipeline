{
 "cells": [
  {
   "cell_type": "code",
   "execution_count": 1,
   "metadata": {},
   "outputs": [],
   "source": [
    "import numpy as np\n",
    "import matplotlib.pyplot as plt"
   ]
  },
  {
   "cell_type": "code",
   "execution_count": 2,
   "metadata": {},
   "outputs": [],
   "source": [
    "amph_dat=np.load('//ZMN-HIVE/User-Data/Maria/segmented/fish44_6dpf_amph_raw_traces.npy')\n",
    "no_amph_dat=np.load('//ZMN-HIVE/User-Data/Maria/segmented/fish17_6dpf_medium_raw_traces.npy')"
   ]
  },
  {
   "cell_type": "code",
   "execution_count": 8,
   "metadata": {
    "scrolled": true
   },
   "outputs": [
    {
     "name": "stdout",
     "output_type": "stream",
     "text": [
      "(21522,)\n",
      "(21522,)\n"
     ]
    }
   ],
   "source": [
    "amph_mean=np.mean(amph_dat,axis=1)\n",
    "amph_std=np.std(amph_dat,axis=1)\n",
    "print(amph_mean.shape)\n",
    "snr_amph=amph_mean/amph_std\n",
    "print(snr_amph.shape)"
   ]
  },
  {
   "cell_type": "code",
   "execution_count": 10,
   "metadata": {},
   "outputs": [
    {
     "name": "stdout",
     "output_type": "stream",
     "text": [
      "(45907,)\n",
      "(45907,)\n"
     ]
    }
   ],
   "source": [
    "no_amph_mean=np.mean(no_amph_dat,axis=1)\n",
    "no_amph_std=np.std(no_amph_dat,axis=1)\n",
    "print(no_amph_mean.shape)\n",
    "snr_no_amph=no_amph_mean/no_amph_std\n",
    "print(snr_no_amph.shape)"
   ]
  },
  {
   "cell_type": "code",
   "execution_count": 13,
   "metadata": {},
   "outputs": [
    {
     "data": {
      "text/plain": [
       "<matplotlib.legend.Legend at 0x1b23c9542b0>"
      ]
     },
     "execution_count": 13,
     "metadata": {},
     "output_type": "execute_result"
    },
    {
     "data": {
      "image/png": "[encoded data removed]",
      "text/plain": [
       "<Figure size 432x288 with 1 Axes>"
      ]
     },
     "metadata": {
      "needs_background": "light"
     },
     "output_type": "display_data"
    }
   ],
   "source": [
    "plt.hist(snr_amph,label='SNR amph')\n",
    "plt.hist(snr_no_amph,label='SNR no amph')\n",
    "plt.legend()"
   ]
  }
 ],
 "metadata": {
  "kernelspec": {
   "display_name": "Python 3",
   "language": "python",
   "name": "python3"
  },
  "language_info": {
   "codemirror_mode": {
    "name": "ipython",
    "version": 3
   },
   "file_extension": ".py",
   "mimetype": "text/x-python",
   "name": "python",
   "nbconvert_exporter": "python",
   "pygments_lexer": "ipython3",
   "version": "3.8.3"
  }
 },
 "nbformat": 4,
 "nbformat_minor": 4
}
