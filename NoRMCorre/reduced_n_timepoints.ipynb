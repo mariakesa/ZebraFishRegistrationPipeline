{
 "cells": [
  {
   "cell_type": "code",
   "execution_count": 1,
   "metadata": {},
   "outputs": [
    {
     "name": "stdout",
     "output_type": "stream",
     "text": [
      "Keys: <KeysViewHDF5 ['data']>\n",
      "Time to load file:  172.99943709373474\n"
     ]
    }
   ],
   "source": [
    "import h5py\n",
    "import time\n",
    "filename='//ZMN-HIVE/User-Data/Maria/hdf5_conversion/fish11_6dpf_medium.h5'\n",
    "with h5py.File(filename, \"r+\") as f:\n",
    "    # List all groups\n",
    "    print(\"Keys: %s\" % f.keys())\n",
    "    start=time.time()\n",
    "    data=f['data'][:200,:,:,:]\n",
    "    end=time.time()\n",
    "    print('Time to load file: ',end-start)\n",
    "save_filename='//ZMN-HIVE/User-Data/Maria/hdf5_conversion/fish11_6dpf_medium_reduced.h5'\n",
    "with h5py.File(save_filename, 'w') as f:\n",
    "    dset = f.create_dataset(\"data\", data=data)"
   ]
  }
 ],
 "metadata": {
  "kernelspec": {
   "display_name": "Python 3",
   "language": "python",
   "name": "python3"
  },
  "language_info": {
   "codemirror_mode": {
    "name": "ipython",
    "version": 3
   },
   "file_extension": ".py",
   "mimetype": "text/x-python",
   "name": "python",
   "nbconvert_exporter": "python",
   "pygments_lexer": "ipython3",
   "version": "3.8.3"
  }
 },
 "nbformat": 4,
 "nbformat_minor": 4
}
